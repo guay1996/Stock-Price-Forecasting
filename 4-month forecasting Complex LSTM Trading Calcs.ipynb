{
 "cells": [
  {
   "cell_type": "code",
   "execution_count": 1,
   "metadata": {},
   "outputs": [
    {
     "data": {
      "text/html": [
       "<div>\n",
       "<style scoped>\n",
       "    .dataframe tbody tr th:only-of-type {\n",
       "        vertical-align: middle;\n",
       "    }\n",
       "\n",
       "    .dataframe tbody tr th {\n",
       "        vertical-align: top;\n",
       "    }\n",
       "\n",
       "    .dataframe thead th {\n",
       "        text-align: right;\n",
       "    }\n",
       "</style>\n",
       "<table border=\"1\" class=\"dataframe\">\n",
       "  <thead>\n",
       "    <tr style=\"text-align: right;\">\n",
       "      <th></th>\n",
       "      <th>Date</th>\n",
       "      <th>Open</th>\n",
       "      <th>High</th>\n",
       "      <th>Low</th>\n",
       "      <th>Close</th>\n",
       "      <th>Adj Close</th>\n",
       "      <th>Volume</th>\n",
       "    </tr>\n",
       "  </thead>\n",
       "  <tbody>\n",
       "    <tr>\n",
       "      <th>4517</th>\n",
       "      <td>2018-08-31</td>\n",
       "      <td>226.509995</td>\n",
       "      <td>228.869995</td>\n",
       "      <td>226.000000</td>\n",
       "      <td>227.630005</td>\n",
       "      <td>227.630005</td>\n",
       "      <td>43340100</td>\n",
       "    </tr>\n",
       "    <tr>\n",
       "      <th>4518</th>\n",
       "      <td>2018-09-04</td>\n",
       "      <td>228.410004</td>\n",
       "      <td>229.179993</td>\n",
       "      <td>226.630005</td>\n",
       "      <td>228.360001</td>\n",
       "      <td>228.360001</td>\n",
       "      <td>27390100</td>\n",
       "    </tr>\n",
       "    <tr>\n",
       "      <th>4519</th>\n",
       "      <td>2018-09-05</td>\n",
       "      <td>228.990005</td>\n",
       "      <td>229.669998</td>\n",
       "      <td>225.100006</td>\n",
       "      <td>226.869995</td>\n",
       "      <td>226.869995</td>\n",
       "      <td>33333000</td>\n",
       "    </tr>\n",
       "    <tr>\n",
       "      <th>4520</th>\n",
       "      <td>2018-09-06</td>\n",
       "      <td>226.229996</td>\n",
       "      <td>227.350006</td>\n",
       "      <td>221.300003</td>\n",
       "      <td>223.100006</td>\n",
       "      <td>223.100006</td>\n",
       "      <td>34290000</td>\n",
       "    </tr>\n",
       "    <tr>\n",
       "      <th>4521</th>\n",
       "      <td>2018-09-07</td>\n",
       "      <td>221.850006</td>\n",
       "      <td>225.369995</td>\n",
       "      <td>220.710007</td>\n",
       "      <td>221.300003</td>\n",
       "      <td>221.300003</td>\n",
       "      <td>37619800</td>\n",
       "    </tr>\n",
       "    <tr>\n",
       "      <th>4522</th>\n",
       "      <td>2018-09-10</td>\n",
       "      <td>220.949997</td>\n",
       "      <td>221.850006</td>\n",
       "      <td>216.470001</td>\n",
       "      <td>218.330002</td>\n",
       "      <td>218.330002</td>\n",
       "      <td>39516500</td>\n",
       "    </tr>\n",
       "    <tr>\n",
       "      <th>4523</th>\n",
       "      <td>2018-09-11</td>\n",
       "      <td>218.009995</td>\n",
       "      <td>224.300003</td>\n",
       "      <td>216.559998</td>\n",
       "      <td>223.850006</td>\n",
       "      <td>223.850006</td>\n",
       "      <td>35749000</td>\n",
       "    </tr>\n",
       "    <tr>\n",
       "      <th>4524</th>\n",
       "      <td>2018-09-12</td>\n",
       "      <td>224.940002</td>\n",
       "      <td>225.000000</td>\n",
       "      <td>219.839996</td>\n",
       "      <td>221.070007</td>\n",
       "      <td>221.070007</td>\n",
       "      <td>49278700</td>\n",
       "    </tr>\n",
       "    <tr>\n",
       "      <th>4525</th>\n",
       "      <td>2018-09-13</td>\n",
       "      <td>223.520004</td>\n",
       "      <td>228.350006</td>\n",
       "      <td>222.570007</td>\n",
       "      <td>226.410004</td>\n",
       "      <td>226.410004</td>\n",
       "      <td>41706400</td>\n",
       "    </tr>\n",
       "    <tr>\n",
       "      <th>4526</th>\n",
       "      <td>2018-09-14</td>\n",
       "      <td>225.750000</td>\n",
       "      <td>226.839996</td>\n",
       "      <td>222.520004</td>\n",
       "      <td>223.839996</td>\n",
       "      <td>223.839996</td>\n",
       "      <td>31902700</td>\n",
       "    </tr>\n",
       "  </tbody>\n",
       "</table>\n",
       "</div>"
      ],
      "text/plain": [
       "            Date        Open        High         Low       Close   Adj Close  \\\n",
       "4517  2018-08-31  226.509995  228.869995  226.000000  227.630005  227.630005   \n",
       "4518  2018-09-04  228.410004  229.179993  226.630005  228.360001  228.360001   \n",
       "4519  2018-09-05  228.990005  229.669998  225.100006  226.869995  226.869995   \n",
       "4520  2018-09-06  226.229996  227.350006  221.300003  223.100006  223.100006   \n",
       "4521  2018-09-07  221.850006  225.369995  220.710007  221.300003  221.300003   \n",
       "4522  2018-09-10  220.949997  221.850006  216.470001  218.330002  218.330002   \n",
       "4523  2018-09-11  218.009995  224.300003  216.559998  223.850006  223.850006   \n",
       "4524  2018-09-12  224.940002  225.000000  219.839996  221.070007  221.070007   \n",
       "4525  2018-09-13  223.520004  228.350006  222.570007  226.410004  226.410004   \n",
       "4526  2018-09-14  225.750000  226.839996  222.520004  223.839996  223.839996   \n",
       "\n",
       "        Volume  \n",
       "4517  43340100  \n",
       "4518  27390100  \n",
       "4519  33333000  \n",
       "4520  34290000  \n",
       "4521  37619800  \n",
       "4522  39516500  \n",
       "4523  35749000  \n",
       "4524  49278700  \n",
       "4525  41706400  \n",
       "4526  31902700  "
      ]
     },
     "execution_count": 1,
     "metadata": {},
     "output_type": "execute_result"
    }
   ],
   "source": [
    "import pandas as pd\n",
    "import numpy as np\n",
    "from sklearn.preprocessing import MinMaxScaler\n",
    "import matplotlib.pyplot as plt\n",
    "from matplotlib.pyplot import figure\n",
    "\n",
    "#change filename here if necessary\n",
    "filename = 'Desktop\\AAPL (3).csv'\n",
    "\n",
    "df = pd.read_csv(filename)\n",
    "\n",
    "df.sort_values('Date')\n",
    "\n",
    "df.tail(10)"
   ]
  },
  {
   "cell_type": "code",
   "execution_count": 2,
   "metadata": {},
   "outputs": [
    {
     "name": "stdout",
     "output_type": "stream",
     "text": [
      "[  4.13783425   4.263393     4.29380375 ... 222.71250125 225.21250525\n",
      " 224.737499  ]\n"
     ]
    },
    {
     "name": "stderr",
     "output_type": "stream",
     "text": [
      "C:\\Users\\Yi Rong\\Anaconda3\\envs\\tensorflow\\lib\\site-packages\\ipykernel_launcher.py:1: FutureWarning: Method .as_matrix will be removed in a future version. Use .values instead.\n",
      "  \"\"\"Entry point for launching an IPython kernel.\n",
      "C:\\Users\\Yi Rong\\Anaconda3\\envs\\tensorflow\\lib\\site-packages\\ipykernel_launcher.py:2: FutureWarning: Method .as_matrix will be removed in a future version. Use .values instead.\n",
      "  \n",
      "C:\\Users\\Yi Rong\\Anaconda3\\envs\\tensorflow\\lib\\site-packages\\ipykernel_launcher.py:3: FutureWarning: Method .as_matrix will be removed in a future version. Use .values instead.\n",
      "  This is separate from the ipykernel package so we can avoid doing imports until\n",
      "C:\\Users\\Yi Rong\\Anaconda3\\envs\\tensorflow\\lib\\site-packages\\ipykernel_launcher.py:4: FutureWarning: Method .as_matrix will be removed in a future version. Use .values instead.\n",
      "  after removing the cwd from sys.path.\n"
     ]
    }
   ],
   "source": [
    "high_prices = df.loc[:,'High'].as_matrix()\n",
    "low_prices = df.loc[:,'Low'].as_matrix()\n",
    "open_prices = df.loc[:,'Open'].as_matrix()\n",
    "close_prices = df.loc[:,'Close'].as_matrix()\n",
    "OHLC_mean = (high_prices+low_prices+open_prices+close_prices)/4.0\n",
    "\n",
    "print(OHLC_mean)"
   ]
  },
  {
   "cell_type": "code",
   "execution_count": 3,
   "metadata": {},
   "outputs": [
    {
     "name": "stdout",
     "output_type": "stream",
     "text": [
      "126\n"
     ]
    }
   ],
   "source": [
    "#data pulled from Stock Price 4-month forecasting (Complex LSTM)\n",
    "\n",
    "predictions = [0.7672058939933777, 0.7670668363571167, 0.7661101222038269, 0.7656927704811096, 0.7637352347373962, 0.7610987424850464, 0.7555482387542725, 0.7501713633537292, 0.744504988193512, 0.7375211119651794, 0.7311656475067139, 0.7249792218208313, 0.7191246151924133, 0.7135770320892334, 0.7082353830337524, 0.7074899077415466, 0.7051895260810852, 0.7027550339698792, 0.7070102691650391, 0.7079033851623535, 0.7080698609352112, 0.7159793972969055, 0.7191470265388489, 0.7210981249809265, 0.7306092381477356, 0.7344170212745667, 0.7366815805435181, 0.7369629740715027, 0.735598087310791, 0.7330976724624634, 0.726779043674469, 0.7213539481163025, 0.7157720923423767, 0.7113982439041138, 0.707844614982605, 0.704566478729248, 0.7129721641540527, 0.716937780380249, 0.7202656865119934, 0.7380196452140808, 0.747538685798645, 0.7550442218780518, 0.7730412483215332, 0.7823821902275085, 0.7890655994415283, 0.7997533679008484, 0.8048095107078552, 0.807654082775116, 0.8117217421531677, 0.8125336766242981, 0.8119267225265503, 0.8120439648628235, 0.8103262186050415, 0.807776689529419, 0.8062198758125305, 0.8034811019897461, 0.8001859784126282, 0.8026250004768372, 0.8019310235977173, 0.8005126714706421, 0.8047007322311401, 0.8048564791679382, 0.8038755059242249, 0.8072783350944519, 0.8069867491722107, 0.8054955005645752, 0.805701732635498, 0.8032354116439819, 0.7997430562973022, 0.7972806096076965, 0.793281614780426, 0.7886592149734497, 0.7849597930908203, 0.7805030941963196, 0.7756574153900146, 0.7749513983726501, 0.7720367908477783, 0.7686185240745544, 0.7709998488426208, 0.7700445055961609, 0.7682690620422363, 0.7753438949584961, 0.776982307434082, 0.7773579955101013, 0.7857844233512878, 0.788636326789856, 0.7899134755134583, 0.797223687171936, 0.7994783520698547, 0.8001023530960083, 0.805575430393219, 0.806757390499115, 0.806498110294342, 0.8117889165878296, 0.8126004338264465, 0.8120678663253784, 0.8148493766784668, 0.8150493502616882, 0.8141179084777832, 0.826053261756897, 0.8308766484260559, 0.8341189622879028, 0.8486478924751282, 0.8551386594772339, 0.8593068718910217, 0.8710572123527527, 0.8759462237358093, 0.8784535527229309, 0.8873905539512634, 0.8906548619270325, 0.8918561935424805, 0.9007388949394226, 0.903074324131012, 0.9033954739570618, 0.909182071685791, 0.9099043607711792, 0.9087954163551331, 0.9157729744911194, 0.9170704483985901, 0.9165851473808289, 0.9278741478919983, 0.9311205744743347, 0.9321562647819519, 0.9388949871063232, 0.9391574263572693, 0.9370771646499634]\n",
    "\n",
    "four_month_predictions = [max(OHLC_mean)* x for x in predictions]\n",
    "four_month_predictions\n",
    "print(len(four_month_predictions))"
   ]
  },
  {
   "cell_type": "code",
   "execution_count": 4,
   "metadata": {},
   "outputs": [
    {
     "name": "stdout",
     "output_type": "stream",
     "text": [
      "[178.352497   175.93750375 175.55500375 173.164997   170.03250125\n",
      " 167.04750025 170.09500475 171.02249525 167.2350005  168.55999775\n",
      " 166.68249875 167.41500075 168.31750125 172.92250075 170.00749975\n",
      " 170.7175025  172.94499975 172.57249825 173.897499   174.79999925\n",
      " 175.4675025  177.520004   177.8375015  173.65250025 168.24250025\n",
      " 165.77000025 164.04000075 163.52499775 164.35999675 162.8200035\n",
      " 164.12249775 167.49500275 175.8375015  176.1775015  181.125\n",
      " 185.68999875 185.23250175 186.63249975 188.94999675 188.897499\n",
      " 188.63749725 186.3475035  187.17750175 187.5650025  186.86000075\n",
      " 187.95250325 187.80000325 187.2425005  187.99250025 188.5274965\n",
      " 187.77999875 187.5        187.11499775 189.06000125 192.06000125\n",
      " 193.170002   193.40250025 193.53499975 191.15999975 191.1900025\n",
      " 191.85749825 191.6100005  191.0350035  189.3224985  188.260002\n",
      " 185.1525     186.44499975 186.50000375 185.472496   182.8049965\n",
      " 184.1224975  185.1749995  184.902504   185.375      185.43000025\n",
      " 185.79999525 185.337498   186.75499725 190.0149995  190.63000125\n",
      " 188.44250125 190.32       191.2874985  191.375      190.56749725\n",
      " 190.97749725 190.952503   191.454998   190.95249975 192.790001\n",
      " 193.790001   194.597504   192.81500225 190.7700005  190.51749775\n",
      " 199.9249995  204.175003   207.31000125 208.3475035  208.17250075\n",
      " 206.40750125 208.8475     207.665001   209.20749675 209.68249925\n",
      " 209.63250325 212.5875015  215.53250125 216.96250175 215.76499925\n",
      " 214.8375015  215.447502   216.19250125 217.54000075 219.54249575\n",
      " 221.50749975 224.734997   227.25249875 228.14500075 227.657501\n",
      " 224.49500275 222.30750275 219.4000015  220.6800005  222.71250125\n",
      " 225.21250525]\n"
     ]
    }
   ],
   "source": [
    "true_values = OHLC_mean[4400:4526]\n",
    "print(true_values)"
   ]
  },
  {
   "cell_type": "code",
   "execution_count": 5,
   "metadata": {},
   "outputs": [
    {
     "name": "stdout",
     "output_type": "stream",
     "text": [
      "19.76999324999997\n"
     ]
    }
   ],
   "source": [
    "#Assuming 1 stock is bought/sold each time. Buying is done when the stock is predicted to go up, else it is sold\n",
    "\n",
    "profit = 0\n",
    "for i in range (len(true_values)-1):\n",
    "    if four_month_predictions[i+1] > four_month_predictions[i]:\n",
    "        profit = profit + true_values[i+1] - true_values[i]\n",
    "print (profit)"
   ]
  },
  {
   "cell_type": "code",
   "execution_count": 6,
   "metadata": {},
   "outputs": [
    {
     "name": "stdout",
     "output_type": "stream",
     "text": [
      "21\n"
     ]
    }
   ],
   "source": [
    "#Number of correct predictions of price changes per 3 day interval\n",
    "three_day_interval = []\n",
    "for i in range (len(true_values)-1):\n",
    "    if i %  3 == 0:\n",
    "        three_day_interval.append(true_values[i])\n",
    "        \n",
    "three_day_predictions = []\n",
    "for i in range (len(four_month_predictions)-1):\n",
    "    if i % 3 == 0:\n",
    "        three_day_predictions.append(four_month_predictions[i])\n",
    "        \n",
    "counter = 0;\n",
    "for i in range(len(three_day_predictions)-1):\n",
    "    if three_day_interval[i+1] > three_day_interval[i] and  three_day_predictions[i+1] >  three_day_predictions[i]:\n",
    "        counter = counter + 1\n",
    "    elif three_day_interval[i+1]< three_day_interval[i] and  three_day_predictions[i+1] < three_day_predictions[i]:\n",
    "        counter = counter + 1\n",
    "print (counter)"
   ]
  },
  {
   "cell_type": "code",
   "execution_count": 7,
   "metadata": {},
   "outputs": [
    {
     "name": "stdout",
     "output_type": "stream",
     "text": [
      "27.40249700000004\n"
     ]
    }
   ],
   "source": [
    "#profit if 1 stock was bought/sold every 3 days instead\n",
    "profit = 0\n",
    "for i in range (len(three_day_predictions)-1):\n",
    "    if three_day_predictions[i+1] > three_day_predictions[i]:\n",
    "        profit = profit + three_day_interval[i+1] - three_day_interval[i]\n",
    "print (profit)"
   ]
  },
  {
   "cell_type": "code",
   "execution_count": 8,
   "metadata": {},
   "outputs": [
    {
     "name": "stdout",
     "output_type": "stream",
     "text": [
      "1092.7877668889528\n",
      "0.09278776688895274\n",
      "[1007.6779368870262, 1012.9076244626943, 1016.775582896216, 1028.669143694221, 1030.5089356843678, 1006.2582509435274, 974.9091075118624, 960.5817956570027, 950.5570262554852, 947.5727558461068, 945.238156804696, 952.3823216599347, 964.2084675683722, 963.9405724852869, 962.613788186559, 950.9279908729444, 955.1634571575815, 957.1408665821156, 953.5432552103622, 959.1182760066494, 958.340071223197, 955.4951446209811, 959.3223799851658, 962.0524563187994, 960.6179399326196, 961.2760565369425, 964.6321299399707, 963.3877465621226, 954.7515997686037, 961.4164636187437, 978.1989855364226, 987.9450213850945, 992.9672750960684, 993.4214925786699, 989.2297716790414, 991.3580685409999, 991.2283241901655, 993.8367596332137, 991.2283073195199, 1000.7667174273719, 1005.9576853833676, 1010.1494075807378, 999.4357323886712, 998.1128814675884, 1019.3307544211523, 1034.9820343737795, 1034.1126949328295, 1025.3449259771592, 1037.4658049304533, 1031.5916514123865, 1039.254116104928, 1041.6137270698975, 1041.365368145882, 1056.044546196873, 1070.6740559403643, 1077.7776919416735, 1071.8290073987953, 1067.221591941225, 1070.2518157157037, 1073.9526560253742, 1080.6464620484812, 1090.594007923075, 1100.3553144101124, 1112.6815941023192, 1117.0514934590342, 1101.534001710655, 1090.8005528622396, 1076.5342598594602, 1082.8148558788994, 1092.7877668889528]\n"
     ]
    }
   ],
   "source": [
    "#Assuming initial capital of $1000 and trading is done daily\n",
    "capital = 1000\n",
    "capital_values=[]\n",
    "for i in range (len(true_values)-1):\n",
    "    if four_month_predictions[i+1] > four_month_predictions[i]:\n",
    "        capital = (capital/true_values[i])*true_values[i+1]\n",
    "        capital_values.append(capital)\n",
    "return_on_capital_daily = capital/1000 -1\n",
    "\n",
    "print(capital)\n",
    "print(return_on_capital_daily)\n",
    "print(capital_values)"
   ]
  },
  {
   "cell_type": "code",
   "execution_count": 9,
   "metadata": {},
   "outputs": [
    {
     "name": "stdout",
     "output_type": "stream",
     "text": [
      "1136.9973268443653\n",
      "0.13699732684436516\n",
      "[1020.8312656641486, 967.4808506015376, 940.3527864998221, 988.6841264515585, 1008.2461610315056, 999.0656232611394, 1003.2022173997874, 1003.4157026069302, 1000.7869675045689, 992.112455703923, 979.0037429868202, 980.5751801465105, 981.8503465005695, 986.4229673907093, 998.4534738396778, 982.8936927639627, 1051.9595436535274, 1072.5556295947922, 1069.9408667806867, 1080.0779194983854, 1117.8438642210167, 1110.0382150366, 1131.136624211175, 1170.8604450426963, 1156.6531513428577, 1136.9973268443653]\n"
     ]
    }
   ],
   "source": [
    "#Assuming initial capital of $1000 and is done every 3 days\n",
    "capital = 1000\n",
    "capital_values_3days = []\n",
    "for i in range (len(three_day_predictions)-1):\n",
    "    if three_day_predictions[i+1] > three_day_predictions[i]:\n",
    "        capital = (capital/three_day_interval[i])*three_day_interval[i+1]\n",
    "        capital_values_3days.append(capital)\n",
    "return_on_capital_3days = capital/1000 -1\n",
    "\n",
    "print(capital)\n",
    "print(return_on_capital_3days)\n",
    "print(capital_values_3days)"
   ]
  },
  {
   "cell_type": "code",
   "execution_count": 10,
   "metadata": {},
   "outputs": [
    {
     "data": {
      "text/plain": [
       "[0.007677936887026309,\n",
       " 0.005189840309319407,\n",
       " 0.003818668494645211,\n",
       " 0.011697331247989953,\n",
       " 0.0017885167465407073,\n",
       " -0.023532726307448553,\n",
       " -0.03115417280034237,\n",
       " -0.014696048836209544,\n",
       " -0.010436143436031753,\n",
       " -0.0031394964499229243,\n",
       " -0.002463767586190419,\n",
       " 0.007558058044746131,\n",
       " 0.012417435350779382,\n",
       " -0.00027783938027516676,\n",
       " -0.0013764171118008635,\n",
       " -0.012139652950150554,\n",
       " 0.004454034716917946,\n",
       " 0.002070231445430728,\n",
       " -0.0037587062650455616,\n",
       " 0.005846636495852756,\n",
       " -0.0008113752004522717,\n",
       " -0.002968598191438135,\n",
       " 0.00400549954202305,\n",
       " 0.0028458382610399165,\n",
       " -0.0014910999673228207,\n",
       " 0.0006850971410851471,\n",
       " 0.0034912691106846554,\n",
       " -0.0012900082209842928,\n",
       " -0.008964351917841179,\n",
       " 0.006980730748977297,\n",
       " 0.017456037578667864,\n",
       " 0.009963244690268623,\n",
       " 0.005083535624211879,\n",
       " 0.0004574344935563152,\n",
       " -0.004219478772044551,\n",
       " 0.002151468670767911,\n",
       " -0.00013087536678366542,\n",
       " 0.0026315182681842637,\n",
       " -0.002624628530198902,\n",
       " 0.009622818514581936,\n",
       " 0.005186990999600648,\n",
       " 0.00416689713521389,\n",
       " -0.010606030268062503,\n",
       " -0.0013235977844430042,\n",
       " 0.021257989299132102,\n",
       " 0.015354466530851454,\n",
       " -0.0008399560688760756,\n",
       " -0.008478543004676932,\n",
       " 0.011821269746610049,\n",
       " -0.005662021331354252,\n",
       " 0.0074278079723218695,\n",
       " 0.00227048508002373,\n",
       " -0.00023843668488714596,\n",
       " 0.01409608817424637,\n",
       " 0.01385311803008349,\n",
       " 0.006634732542454439,\n",
       " -0.005519398469049102,\n",
       " -0.004298647849391703,\n",
       " 0.0028393576342164474,\n",
       " 0.0034579154693565903,\n",
       " 0.0062328688192646985,\n",
       " 0.009205180624695015,\n",
       " 0.008950449402914581,\n",
       " 0.011202090389152783,\n",
       " 0.003927358356494231,\n",
       " -0.013891473973440474,\n",
       " -0.009744092176679866,\n",
       " -0.013078736498019501,\n",
       " 0.0058340883830851,\n",
       " 0.009210171947593397]"
      ]
     },
     "execution_count": 10,
     "metadata": {},
     "output_type": "execute_result"
    }
   ],
   "source": [
    "#calculate daily returns\n",
    "returns_daily = []\n",
    "for i in range (len(true_values)-1):\n",
    "    if four_month_predictions[i+1] > four_month_predictions[i]:\n",
    "        returns_daily.append((true_values[i+1]-true_values[i])/true_values[i])\n",
    "returns_daily"
   ]
  },
  {
   "cell_type": "code",
   "execution_count": 11,
   "metadata": {},
   "outputs": [],
   "source": [
    "from numpy import array\n",
    "returns_daily = array(returns_daily)"
   ]
  },
  {
   "cell_type": "code",
   "execution_count": 12,
   "metadata": {},
   "outputs": [
    {
     "name": "stdout",
     "output_type": "stream",
     "text": [
      "2.2968730156589867\n"
     ]
    }
   ],
   "source": [
    "#Calculating annualized sharpe ratio based on daily returns\n",
    "\n",
    "import math\n",
    "def sharperatio(returns, risk_free, days):\n",
    "    return_mean = returns.mean()\n",
    "    excessreturns = array([x - risk_free for x in returns])\n",
    "    std_deviation = np.std(excessreturns)\n",
    "    sharpe_ratio = math.sqrt(days) * return_mean/std_deviation\n",
    "    return sharpe_ratio\n",
    "\n",
    "#Annual risk free return rate for Apple is 3.22%\n",
    "\n",
    "apple_rf = (1+ 3.22*0.01)**(1/252)-1 \n",
    "print(sharperatio(returns_daily,apple_rf, 252))"
   ]
  },
  {
   "cell_type": "code",
   "execution_count": 13,
   "metadata": {},
   "outputs": [
    {
     "data": {
      "text/plain": [
       "[0.020831265664148616,\n",
       " -0.05226173693641869,\n",
       " -0.02803989772495071,\n",
       " 0.051397029546363375,\n",
       " 0.019785929657995343,\n",
       " -0.00910545274080086,\n",
       " 0.004140462890861304,\n",
       " 0.00021280376322947226,\n",
       " -0.0026197866901342313,\n",
       " -0.008667690609796306,\n",
       " -0.013212930290046651,\n",
       " 0.0016051390721919146,\n",
       " 0.0013004269125682052,\n",
       " 0.004657146485141318,\n",
       " 0.012196093204106528,\n",
       " -0.015583881956840679,\n",
       " 0.07026787474375472,\n",
       " 0.019578781394703874,\n",
       " -0.002437880835228532,\n",
       " 0.009474404644622786,\n",
       " 0.03496594462385697,\n",
       " -0.006982772312174518,\n",
       " 0.019006921463401525,\n",
       " 0.03511849937599141,\n",
       " -0.012134062398290806,\n",
       " -0.01699370677862446]"
      ]
     },
     "execution_count": 13,
     "metadata": {},
     "output_type": "execute_result"
    }
   ],
   "source": [
    "returns_3days = []\n",
    "        \n",
    "for i in range (len(three_day_predictions)-1):\n",
    "    if three_day_predictions[i+1] > three_day_predictions[i]:\n",
    "        returns_3days.append((three_day_interval[i+1]-three_day_interval[i])/three_day_interval[i])\n",
    "\n",
    "returns_3days"
   ]
  },
  {
   "cell_type": "code",
   "execution_count": 14,
   "metadata": {},
   "outputs": [
    {
     "name": "stdout",
     "output_type": "stream",
     "text": [
      "3.384961054693679\n"
     ]
    }
   ],
   "source": [
    "from numpy import array\n",
    "returns_3days = array(returns_3days)\n",
    "\n",
    "print(sharperatio(returns_3days,apple_rf, 252))"
   ]
  },
  {
   "cell_type": "code",
   "execution_count": 15,
   "metadata": {},
   "outputs": [
    {
     "name": "stdout",
     "output_type": "stream",
     "text": [
      "0.08274627800586985\n"
     ]
    }
   ],
   "source": [
    "#finding local min and max to find largest peak before drop and then maximum drawdown\n",
    "\n",
    "capital_values = array(capital_values)\n",
    "capital_values_3days = array(capital_values_3days)\n",
    "import numpy as np\n",
    "from scipy.signal import argrelextrema\n",
    "\n",
    "\n",
    "def max_drawdown(returns_array):\n",
    "    \n",
    "    local_max = returns_array[argrelextrema(returns_array, np.greater)[0]]\n",
    "    local_min = returns_array[argrelextrema(returns_array, np.less)[0]]\n",
    "\n",
    "    drop_values = []\n",
    "    for i in range(len(local_max)):\n",
    "        drop = local_max[i] - local_min[i]\n",
    "        drop_values.append(drop)\n",
    "    \n",
    "    peak_before_largest_drop = local_max[drop_values.index(max(drop_values))]\n",
    "\n",
    "    abs_min = min(local_min)\n",
    "\n",
    "    max_drawdown = (peak_before_largest_drop - abs_min)/peak_before_largest_drop\n",
    "\n",
    "    return max_drawdown\n",
    "\n",
    "print(max_drawdown(capital_values))\n"
   ]
  },
  {
   "cell_type": "code",
   "execution_count": 16,
   "metadata": {},
   "outputs": [
    {
     "name": "stdout",
     "output_type": "stream",
     "text": [
      "0.1232596608018513\n"
     ]
    }
   ],
   "source": [
    "print(max_drawdown(capital_values_3days))\n"
   ]
  },
  {
   "cell_type": "code",
   "execution_count": null,
   "metadata": {},
   "outputs": [],
   "source": []
  },
  {
   "cell_type": "code",
   "execution_count": null,
   "metadata": {},
   "outputs": [],
   "source": []
  }
 ],
 "metadata": {
  "kernelspec": {
   "display_name": "Python 3",
   "language": "python",
   "name": "python3"
  },
  "language_info": {
   "codemirror_mode": {
    "name": "ipython",
    "version": 3
   },
   "file_extension": ".py",
   "mimetype": "text/x-python",
   "name": "python",
   "nbconvert_exporter": "python",
   "pygments_lexer": "ipython3",
   "version": "3.6.6"
  }
 },
 "nbformat": 4,
 "nbformat_minor": 2
}
