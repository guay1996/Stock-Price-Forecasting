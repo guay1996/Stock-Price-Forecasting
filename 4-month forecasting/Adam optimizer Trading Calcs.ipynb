{
 "cells": [
  {
   "cell_type": "code",
   "execution_count": 1,
   "metadata": {},
   "outputs": [
    {
     "data": {
      "text/html": [
       "<div>\n",
       "<style scoped>\n",
       "    .dataframe tbody tr th:only-of-type {\n",
       "        vertical-align: middle;\n",
       "    }\n",
       "\n",
       "    .dataframe tbody tr th {\n",
       "        vertical-align: top;\n",
       "    }\n",
       "\n",
       "    .dataframe thead th {\n",
       "        text-align: right;\n",
       "    }\n",
       "</style>\n",
       "<table border=\"1\" class=\"dataframe\">\n",
       "  <thead>\n",
       "    <tr style=\"text-align: right;\">\n",
       "      <th></th>\n",
       "      <th>Date</th>\n",
       "      <th>Open</th>\n",
       "      <th>High</th>\n",
       "      <th>Low</th>\n",
       "      <th>Close</th>\n",
       "      <th>Adj Close</th>\n",
       "      <th>Volume</th>\n",
       "    </tr>\n",
       "  </thead>\n",
       "  <tbody>\n",
       "    <tr>\n",
       "      <th>4517</th>\n",
       "      <td>2018-08-31</td>\n",
       "      <td>226.509995</td>\n",
       "      <td>228.869995</td>\n",
       "      <td>226.000000</td>\n",
       "      <td>227.630005</td>\n",
       "      <td>227.630005</td>\n",
       "      <td>43340100</td>\n",
       "    </tr>\n",
       "    <tr>\n",
       "      <th>4518</th>\n",
       "      <td>2018-09-04</td>\n",
       "      <td>228.410004</td>\n",
       "      <td>229.179993</td>\n",
       "      <td>226.630005</td>\n",
       "      <td>228.360001</td>\n",
       "      <td>228.360001</td>\n",
       "      <td>27390100</td>\n",
       "    </tr>\n",
       "    <tr>\n",
       "      <th>4519</th>\n",
       "      <td>2018-09-05</td>\n",
       "      <td>228.990005</td>\n",
       "      <td>229.669998</td>\n",
       "      <td>225.100006</td>\n",
       "      <td>226.869995</td>\n",
       "      <td>226.869995</td>\n",
       "      <td>33333000</td>\n",
       "    </tr>\n",
       "    <tr>\n",
       "      <th>4520</th>\n",
       "      <td>2018-09-06</td>\n",
       "      <td>226.229996</td>\n",
       "      <td>227.350006</td>\n",
       "      <td>221.300003</td>\n",
       "      <td>223.100006</td>\n",
       "      <td>223.100006</td>\n",
       "      <td>34290000</td>\n",
       "    </tr>\n",
       "    <tr>\n",
       "      <th>4521</th>\n",
       "      <td>2018-09-07</td>\n",
       "      <td>221.850006</td>\n",
       "      <td>225.369995</td>\n",
       "      <td>220.710007</td>\n",
       "      <td>221.300003</td>\n",
       "      <td>221.300003</td>\n",
       "      <td>37619800</td>\n",
       "    </tr>\n",
       "    <tr>\n",
       "      <th>4522</th>\n",
       "      <td>2018-09-10</td>\n",
       "      <td>220.949997</td>\n",
       "      <td>221.850006</td>\n",
       "      <td>216.470001</td>\n",
       "      <td>218.330002</td>\n",
       "      <td>218.330002</td>\n",
       "      <td>39516500</td>\n",
       "    </tr>\n",
       "    <tr>\n",
       "      <th>4523</th>\n",
       "      <td>2018-09-11</td>\n",
       "      <td>218.009995</td>\n",
       "      <td>224.300003</td>\n",
       "      <td>216.559998</td>\n",
       "      <td>223.850006</td>\n",
       "      <td>223.850006</td>\n",
       "      <td>35749000</td>\n",
       "    </tr>\n",
       "    <tr>\n",
       "      <th>4524</th>\n",
       "      <td>2018-09-12</td>\n",
       "      <td>224.940002</td>\n",
       "      <td>225.000000</td>\n",
       "      <td>219.839996</td>\n",
       "      <td>221.070007</td>\n",
       "      <td>221.070007</td>\n",
       "      <td>49278700</td>\n",
       "    </tr>\n",
       "    <tr>\n",
       "      <th>4525</th>\n",
       "      <td>2018-09-13</td>\n",
       "      <td>223.520004</td>\n",
       "      <td>228.350006</td>\n",
       "      <td>222.570007</td>\n",
       "      <td>226.410004</td>\n",
       "      <td>226.410004</td>\n",
       "      <td>41706400</td>\n",
       "    </tr>\n",
       "    <tr>\n",
       "      <th>4526</th>\n",
       "      <td>2018-09-14</td>\n",
       "      <td>225.750000</td>\n",
       "      <td>226.839996</td>\n",
       "      <td>222.520004</td>\n",
       "      <td>223.839996</td>\n",
       "      <td>223.839996</td>\n",
       "      <td>31902700</td>\n",
       "    </tr>\n",
       "  </tbody>\n",
       "</table>\n",
       "</div>"
      ],
      "text/plain": [
       "            Date        Open        High         Low       Close   Adj Close  \\\n",
       "4517  2018-08-31  226.509995  228.869995  226.000000  227.630005  227.630005   \n",
       "4518  2018-09-04  228.410004  229.179993  226.630005  228.360001  228.360001   \n",
       "4519  2018-09-05  228.990005  229.669998  225.100006  226.869995  226.869995   \n",
       "4520  2018-09-06  226.229996  227.350006  221.300003  223.100006  223.100006   \n",
       "4521  2018-09-07  221.850006  225.369995  220.710007  221.300003  221.300003   \n",
       "4522  2018-09-10  220.949997  221.850006  216.470001  218.330002  218.330002   \n",
       "4523  2018-09-11  218.009995  224.300003  216.559998  223.850006  223.850006   \n",
       "4524  2018-09-12  224.940002  225.000000  219.839996  221.070007  221.070007   \n",
       "4525  2018-09-13  223.520004  228.350006  222.570007  226.410004  226.410004   \n",
       "4526  2018-09-14  225.750000  226.839996  222.520004  223.839996  223.839996   \n",
       "\n",
       "        Volume  \n",
       "4517  43340100  \n",
       "4518  27390100  \n",
       "4519  33333000  \n",
       "4520  34290000  \n",
       "4521  37619800  \n",
       "4522  39516500  \n",
       "4523  35749000  \n",
       "4524  49278700  \n",
       "4525  41706400  \n",
       "4526  31902700  "
      ]
     },
     "execution_count": 1,
     "metadata": {},
     "output_type": "execute_result"
    }
   ],
   "source": [
    "import pandas as pd\n",
    "import numpy as np\n",
    "from sklearn.preprocessing import MinMaxScaler\n",
    "import matplotlib.pyplot as plt\n",
    "from matplotlib.pyplot import figure\n",
    "\n",
    "#change filename here if necessary\n",
    "filename = 'Desktop\\AAPL (3).csv'\n",
    "\n",
    "df = pd.read_csv(filename)\n",
    "\n",
    "df.sort_values('Date')\n",
    "\n",
    "df.tail(10)"
   ]
  },
  {
   "cell_type": "code",
   "execution_count": 2,
   "metadata": {},
   "outputs": [
    {
     "name": "stdout",
     "output_type": "stream",
     "text": [
      "[  4.13783425   4.263393     4.29380375 ... 222.71250125 225.21250525\n",
      " 224.737499  ]\n"
     ]
    },
    {
     "name": "stderr",
     "output_type": "stream",
     "text": [
      "C:\\Users\\Yi Rong\\Anaconda3\\envs\\tensorflow\\lib\\site-packages\\ipykernel_launcher.py:1: FutureWarning: Method .as_matrix will be removed in a future version. Use .values instead.\n",
      "  \"\"\"Entry point for launching an IPython kernel.\n",
      "C:\\Users\\Yi Rong\\Anaconda3\\envs\\tensorflow\\lib\\site-packages\\ipykernel_launcher.py:2: FutureWarning: Method .as_matrix will be removed in a future version. Use .values instead.\n",
      "  \n",
      "C:\\Users\\Yi Rong\\Anaconda3\\envs\\tensorflow\\lib\\site-packages\\ipykernel_launcher.py:3: FutureWarning: Method .as_matrix will be removed in a future version. Use .values instead.\n",
      "  This is separate from the ipykernel package so we can avoid doing imports until\n",
      "C:\\Users\\Yi Rong\\Anaconda3\\envs\\tensorflow\\lib\\site-packages\\ipykernel_launcher.py:4: FutureWarning: Method .as_matrix will be removed in a future version. Use .values instead.\n",
      "  after removing the cwd from sys.path.\n"
     ]
    }
   ],
   "source": [
    "high_prices = df.loc[:,'High'].as_matrix()\n",
    "low_prices = df.loc[:,'Low'].as_matrix()\n",
    "open_prices = df.loc[:,'Open'].as_matrix()\n",
    "close_prices = df.loc[:,'Close'].as_matrix()\n",
    "OHLC_mean = (high_prices+low_prices+open_prices+close_prices)/4.0\n",
    "\n",
    "print(OHLC_mean)"
   ]
  },
  {
   "cell_type": "code",
   "execution_count": 3,
   "metadata": {},
   "outputs": [
    {
     "data": {
      "text/plain": [
       "[181.2321279761505,\n",
       " 179.84181715958357,\n",
       " 179.4219634187629,\n",
       " 180.8343174066293,\n",
       " 182.08253747865098,\n",
       " 180.43798907379633,\n",
       " 169.8567365084965,\n",
       " 175.69393417030997,\n",
       " 178.17809486729388,\n",
       " 163.35470809725072,\n",
       " 166.57163765829492,\n",
       " 177.51520870360852,\n",
       " 170.50520826035122,\n",
       " 171.27466588207096,\n",
       " 177.52897038735625,\n",
       " 167.46244830942626,\n",
       " 167.19323877073714,\n",
       " 154.4563245146722,\n",
       " 173.2354338460849,\n",
       " 182.1556702209387,\n",
       " 150.11036574924333,\n",
       " 171.78724780616793,\n",
       " 184.84919345051125,\n",
       " 159.5290280078963,\n",
       " 187.8953122313628,\n",
       " 173.16186595174193,\n",
       " 176.15436584028396,\n",
       " 175.35489632525278,\n",
       " 177.9085045705564,\n",
       " 178.41065644382877,\n",
       " 183.22467563870046,\n",
       " 159.08790621037465,\n",
       " 181.68219758780853,\n",
       " 184.7998308892423,\n",
       " 188.28568442043937,\n",
       " 187.27031149348883,\n",
       " 188.9629306019484,\n",
       " 158.60212693318155,\n",
       " 162.29651348836194,\n",
       " 197.3607533359566,\n",
       " 184.45633273561864,\n",
       " 188.27582550668728,\n",
       " 190.07599516530556,\n",
       " 185.6792867914316,\n",
       " 188.5854361940073,\n",
       " 196.97118345848193,\n",
       " 191.4259456287468,\n",
       " 195.38370796537544,\n",
       " 205.42142841664767,\n",
       " 188.32645272861686,\n",
       " 194.1487600310393,\n",
       " 190.49722235480064,\n",
       " 196.76653960599253,\n",
       " 200.4753405730035,\n",
       " 193.98181122533708,\n",
       " 205.32961133298707,\n",
       " 196.65781958468529,\n",
       " 195.3992646513511,\n",
       " 182.18629404682787,\n",
       " 200.41403852721825,\n",
       " 200.17422894926287,\n",
       " 180.45574871705176,\n",
       " 209.05626713276556,\n",
       " 204.00556601533572,\n",
       " 201.3904245497175,\n",
       " 203.68685793036036,\n",
       " 205.06509327739374,\n",
       " 199.30989458099398,\n",
       " 207.22687429393602,\n",
       " 198.66857564104765,\n",
       " 204.86696310723158,\n",
       " 207.5676799442177,\n",
       " 203.1380903931679,\n",
       " 212.0991630687078,\n",
       " 219.007909068106,\n",
       " 212.30841681328266,\n",
       " 212.40837939947772,\n",
       " 208.25969409860224,\n",
       " 212.4473255084238,\n",
       " 212.29181304267402,\n",
       " 208.63297297100797,\n",
       " 212.43822811076845,\n",
       " 207.7994392091507,\n",
       " 216.42702222833805,\n",
       " 225.23701554969117,\n",
       " 209.7936322904096,\n",
       " 228.7943020104601,\n",
       " 207.8508959396856,\n",
       " 221.13119272625914,\n",
       " 220.71669679511893,\n",
       " 220.8881739018962,\n",
       " 215.19662979208044,\n",
       " 215.58328959018556,\n",
       " 216.5144741929443,\n",
       " 228.4663605428121,\n",
       " 221.315194053127,\n",
       " 218.9142289897088,\n",
       " 228.65013069515058,\n",
       " 220.02072547673183,\n",
       " 225.42097608105382,\n",
       " 220.82817731227675,\n",
       " 230.74704685845512,\n",
       " 226.90053386445499,\n",
       " 221.52433900968802,\n",
       " 235.33044906253886,\n",
       " 242.63211017083654,\n",
       " 242.3272045651141,\n",
       " 240.16496119951313,\n",
       " 238.62759618527056,\n",
       " 226.53693712527885,\n",
       " 230.61250328236835,\n",
       " 246.84582350697048,\n",
       " 240.2892787023012,\n",
       " 235.06299373057254,\n",
       " 233.70757666943703,\n",
       " 242.82972359793308,\n",
       " 240.72369643847148,\n",
       " 245.751252905962,\n",
       " 246.92708815329092,\n",
       " 259.91806321712113]"
      ]
     },
     "execution_count": 3,
     "metadata": {},
     "output_type": "execute_result"
    }
   ],
   "source": [
    "#data pulled from Stock Price 4-month forecasting (Adam optimizer)\n",
    "\n",
    "four_month_predictions = [181.2321279761505, 179.84181715958357, 179.4219634187629, 180.8343174066293, 182.08253747865098, 180.43798907379633, 169.8567365084965, 175.69393417030997, 178.17809486729388, 163.35470809725072, 166.57163765829492, 177.51520870360852, 170.50520826035122, 171.27466588207096, 177.52897038735625, 167.46244830942626, 167.19323877073714, 154.4563245146722, 173.2354338460849, 182.1556702209387, 150.11036574924333, 171.78724780616793, 184.84919345051125, 159.5290280078963, 187.8953122313628, 173.16186595174193, 176.15436584028396, 175.35489632525278, 177.9085045705564, 178.41065644382877, 183.22467563870046, 159.08790621037465, 181.68219758780853, 184.7998308892423, 188.28568442043937, 187.27031149348883, 188.9629306019484, 158.60212693318155, 162.29651348836194, 197.3607533359566, 184.45633273561864, 188.27582550668728, 190.07599516530556, 185.6792867914316, 188.5854361940073, 196.97118345848193, 191.4259456287468, 195.38370796537544, 205.42142841664767, 188.32645272861686, 194.1487600310393, 190.49722235480064, 196.76653960599253, 200.4753405730035, 193.98181122533708, 205.32961133298707, 196.65781958468529, 195.3992646513511, 182.18629404682787, 200.41403852721825, 200.17422894926287, 180.45574871705176, 209.05626713276556, 204.00556601533572, 201.3904245497175, 203.68685793036036, 205.06509327739374, 199.30989458099398, 207.22687429393602, 198.66857564104765, 204.86696310723158, 207.5676799442177, 203.1380903931679, 212.0991630687078, 219.007909068106, 212.30841681328266, 212.40837939947772, 208.25969409860224, 212.4473255084238, 212.29181304267402, 208.63297297100797, 212.43822811076845, 207.7994392091507, 216.42702222833805, 225.23701554969117, 209.7936322904096, 228.7943020104601, 207.8508959396856, 221.13119272625914, 220.71669679511893, 220.8881739018962, 215.19662979208044, 215.58328959018556, 216.5144741929443, 228.4663605428121, 221.315194053127, 218.9142289897088, 228.65013069515058, 220.02072547673183, 225.42097608105382, 220.82817731227675, 230.74704685845512, 226.90053386445499, 221.52433900968802, 235.33044906253886, 242.63211017083654, 242.3272045651141, 240.16496119951313, 238.62759618527056, 226.53693712527885, 230.61250328236835, 246.84582350697048, 240.2892787023012, 235.06299373057254, 233.70757666943703, 242.82972359793308, 240.72369643847148, 245.751252905962, 246.92708815329092, 259.91806321712113]\n",
    "four_month_predictions"
   ]
  },
  {
   "cell_type": "code",
   "execution_count": 4,
   "metadata": {},
   "outputs": [
    {
     "name": "stdout",
     "output_type": "stream",
     "text": [
      "[178.352497   175.93750375 175.55500375 173.164997   170.03250125\n",
      " 167.04750025 170.09500475 171.02249525 167.2350005  168.55999775\n",
      " 166.68249875 167.41500075 168.31750125 172.92250075 170.00749975\n",
      " 170.7175025  172.94499975 172.57249825 173.897499   174.79999925\n",
      " 175.4675025  177.520004   177.8375015  173.65250025 168.24250025\n",
      " 165.77000025 164.04000075 163.52499775 164.35999675 162.8200035\n",
      " 164.12249775 167.49500275 175.8375015  176.1775015  181.125\n",
      " 185.68999875 185.23250175 186.63249975 188.94999675 188.897499\n",
      " 188.63749725 186.3475035  187.17750175 187.5650025  186.86000075\n",
      " 187.95250325 187.80000325 187.2425005  187.99250025 188.5274965\n",
      " 187.77999875 187.5        187.11499775 189.06000125 192.06000125\n",
      " 193.170002   193.40250025 193.53499975 191.15999975 191.1900025\n",
      " 191.85749825 191.6100005  191.0350035  189.3224985  188.260002\n",
      " 185.1525     186.44499975 186.50000375 185.472496   182.8049965\n",
      " 184.1224975  185.1749995  184.902504   185.375      185.43000025\n",
      " 185.79999525 185.337498   186.75499725 190.0149995  190.63000125\n",
      " 188.44250125 190.32       191.2874985  191.375      190.56749725\n",
      " 190.97749725 190.952503   191.454998   190.95249975 192.790001\n",
      " 193.790001   194.597504   192.81500225 190.7700005  190.51749775\n",
      " 199.9249995  204.175003   207.31000125 208.3475035  208.17250075\n",
      " 206.40750125 208.8475     207.665001   209.20749675 209.68249925\n",
      " 209.63250325 212.5875015  215.53250125 216.96250175 215.76499925\n",
      " 214.8375015  215.447502   216.19250125 217.54000075 219.54249575\n",
      " 221.50749975 224.734997   227.25249875 228.14500075 227.657501  ]\n"
     ]
    }
   ],
   "source": [
    "true_values = OHLC_mean[4400:4520]\n",
    "print(true_values)"
   ]
  },
  {
   "cell_type": "code",
   "execution_count": 5,
   "metadata": {},
   "outputs": [
    {
     "name": "stdout",
     "output_type": "stream",
     "text": [
      "16.950011499999817\n"
     ]
    }
   ],
   "source": [
    "#Assuming 1 stock is bought/sold each time. Buying is done when the stock is predicted to go up, else it is sold\n",
    "\n",
    "profit = 0\n",
    "for i in range (len(true_values)-1):\n",
    "    if four_month_predictions[i+1] > four_month_predictions[i]:\n",
    "        profit = profit + true_values[i+1] - true_values[i]\n",
    "print (profit)"
   ]
  },
  {
   "cell_type": "code",
   "execution_count": 6,
   "metadata": {},
   "outputs": [
    {
     "name": "stdout",
     "output_type": "stream",
     "text": [
      "26\n"
     ]
    }
   ],
   "source": [
    "#Number of correct predictions of price changes per 3 day interval\n",
    "three_day_interval = []\n",
    "for i in range (len(true_values)-1):\n",
    "    if i %  3 == 0:\n",
    "        three_day_interval.append(true_values[i])\n",
    "        \n",
    "three_day_predictions = []\n",
    "for i in range (len(four_month_predictions)-1):\n",
    "    if i % 3 == 0:\n",
    "        three_day_predictions.append(four_month_predictions[i])\n",
    "        \n",
    "counter = 0;\n",
    "for i in range(len(three_day_predictions)-1):\n",
    "    if three_day_interval[i+1] > three_day_interval[i] and  three_day_predictions[i+1] >  three_day_predictions[i]:\n",
    "        counter = counter + 1\n",
    "    elif three_day_interval[i+1]< three_day_interval[i] and  three_day_predictions[i+1] < three_day_predictions[i]:\n",
    "        counter = counter + 1\n",
    "print (counter)"
   ]
  },
  {
   "cell_type": "code",
   "execution_count": 7,
   "metadata": {},
   "outputs": [
    {
     "name": "stdout",
     "output_type": "stream",
     "text": [
      "53.64250499999994\n"
     ]
    }
   ],
   "source": [
    "#profit if 1 stock was bought/sold every 3 days instead\n",
    "profit = 0\n",
    "for i in range (len(three_day_predictions)-1):\n",
    "    if three_day_predictions[i+1] > three_day_predictions[i]:\n",
    "        profit = profit + three_day_interval[i+1] - three_day_interval[i]\n",
    "print (profit)"
   ]
  },
  {
   "cell_type": "code",
   "execution_count": 8,
   "metadata": {},
   "outputs": [
    {
     "name": "stdout",
     "output_type": "stream",
     "text": [
      "1087.2097596754588\n",
      "0.08720975967545885\n",
      "[986.3859947085101, 968.5426084017272, 973.8238573687861, 952.2573801529242, 941.6506982423595, 945.7888712655422, 971.6647145197408, 955.285101674651, 962.6197203944254, 967.6155630218741, 978.9340827832513, 980.6849227840685, 950.1324952369631, 940.2167762334354, 945.0177551586171, 936.1632833111394, 943.6522113750297, 990.6531204444251, 992.5686507384626, 1020.4424250221532, 1017.92829205181, 1030.5683508100926, 1030.2820183381723, 1017.7747521947662, 1022.3079562750443, 1018.4654009549872, 1024.419997937974, 1021.3789065848222, 1025.4700393273797, 1021.4041255412194, 1019.306830146592, 1029.902214675083, 1035.8544807548274, 1036.0170591345259, 1032.908105012107, 1015.8584716962562, 1022.9499061662353, 1017.3140405613393, 1024.6459641488523, 1030.5031621621401, 1033.1364884372074, 1033.4430171770491, 1030.8705491162564, 1048.8654641603716, 1059.3155674269735, 1059.8001349070757, 1055.3283307352253, 1055.1902142528631, 1052.4207319117484, 1057.8796287759676, 1048.18951327694, 1037.072383572459, 1035.6997168632556, 1051.602333501845, 1050.7190337397758, 1063.139866865511, 1065.5537100712077, 1065.299642977009, 1060.7202949577681, 1063.7320592250248, 1073.2529391993764, 1085.2756156347118, 1089.5378818928743, 1087.2097596754588]\n"
     ]
    }
   ],
   "source": [
    "#Assuming initial capital of $1000 and trading is done daily\n",
    "capital = 1000\n",
    "capital_values=[]\n",
    "for i in range (len(true_values)-1):\n",
    "    if four_month_predictions[i+1] > four_month_predictions[i]:\n",
    "        capital = (capital/true_values[i])*true_values[i+1]\n",
    "        capital_values.append(capital)\n",
    "return_on_capital_daily = capital/1000 -1\n",
    "\n",
    "print(capital)\n",
    "print(return_on_capital_daily)\n",
    "print(capital_values)"
   ]
  },
  {
   "cell_type": "code",
   "execution_count": 9,
   "metadata": {},
   "outputs": [
    {
     "name": "stdout",
     "output_type": "stream",
     "text": [
      "1323.369546542964\n",
      "0.323369546542964\n",
      "[998.561363886824, 1017.1618096272675, 964.0031667107556, 967.5255143642335, 1038.5914795047836, 1091.9719964634921, 1113.5776775740196, 1118.1884046241064, 1118.42635932461, 1145.6264958395604, 1154.42477425217, 1144.4185774766684, 1129.2974545898348, 1112.1333455182423, 1124.8939815943172, 1130.354061819399, 1155.9969428547986, 1157.5002323901335, 1171.6172131081387, 1253.9442646864484, 1278.494965325887, 1275.378146951983, 1287.4615955911152, 1278.4715444084336, 1323.369546542964]\n"
     ]
    }
   ],
   "source": [
    "#Assuming initial capital of $1000 and is done every 3 days\n",
    "capital = 1000\n",
    "capital_values_3days = []\n",
    "for i in range (len(three_day_predictions)-1):\n",
    "    if three_day_predictions[i+1] > three_day_predictions[i]:\n",
    "        capital = (capital/three_day_interval[i])*three_day_interval[i+1]\n",
    "        capital_values_3days.append(capital)\n",
    "return_on_capital_3days = capital/1000 -1\n",
    "\n",
    "print(capital)\n",
    "print(return_on_capital_3days)\n",
    "print(capital_values_3days)"
   ]
  },
  {
   "cell_type": "code",
   "execution_count": 10,
   "metadata": {},
   "outputs": [
    {
     "data": {
      "text/plain": [
       "[-0.013614005291489883,\n",
       " -0.01808965902040801,\n",
       " 0.005452779176926278,\n",
       " -0.022146178749546407,\n",
       " -0.01113846123078765,\n",
       " 0.00439459454647761,\n",
       " 0.02735900584194296,\n",
       " -0.01685726835638531,\n",
       " 0.007677936887026309,\n",
       " 0.005189840309319407,\n",
       " 0.011697331247989953,\n",
       " 0.0017885167465407073,\n",
       " -0.03115417280034237,\n",
       " -0.010436143436031753,\n",
       " 0.005106246821519874,\n",
       " -0.009369635437158042,\n",
       " 0.007999596007870096,\n",
       " 0.04980744865834497,\n",
       " 0.0019336034526173213,\n",
       " 0.02808246488840117,\n",
       " -0.002463767586190419,\n",
       " 0.012417435350779382,\n",
       " -0.00027783938027516676,\n",
       " -0.012139652950150554,\n",
       " 0.004454034716917946,\n",
       " -0.0037587062650455616,\n",
       " 0.005846636495852756,\n",
       " -0.002968598191438135,\n",
       " 0.00400549954202305,\n",
       " -0.003964926941041769,\n",
       " -0.0020533453333332545,\n",
       " 0.010394695900318253,\n",
       " 0.005779447791188701,\n",
       " 0.00015695098367472465,\n",
       " -0.0030008715541963386,\n",
       " -0.016506437729667138,\n",
       " 0.006980730748977297,\n",
       " -0.005509424822196618,\n",
       " 0.00720713889239889,\n",
       " 0.005716313944742318,\n",
       " 0.002555379131047237,\n",
       " 0.00029669723533381625,\n",
       " -0.002489221000127856,\n",
       " 0.017456037578667864,\n",
       " 0.009963244690268623,\n",
       " 0.0004574344935563152,\n",
       " -0.004219478772044551,\n",
       " -0.00013087536678366542,\n",
       " -0.002624628530198902,\n",
       " 0.005186990999600648,\n",
       " -0.009159941486197039,\n",
       " -0.010606030268062503,\n",
       " -0.0013235977844430042,\n",
       " 0.015354466530851454,\n",
       " -0.0008399560688760756,\n",
       " 0.011821269746610049,\n",
       " 0.00227048508002373,\n",
       " -0.00023843668488714596,\n",
       " -0.004298647849391703,\n",
       " 0.0028393576342164474,\n",
       " 0.008950449402914581,\n",
       " 0.011202090389152783,\n",
       " 0.003927358356494231,\n",
       " -0.00213679786275138]"
      ]
     },
     "execution_count": 10,
     "metadata": {},
     "output_type": "execute_result"
    }
   ],
   "source": [
    "#calculate daily returns\n",
    "returns_daily = []\n",
    "for i in range (len(true_values)-1):\n",
    "    if four_month_predictions[i+1] > four_month_predictions[i]:\n",
    "        returns_daily.append((true_values[i+1]-true_values[i])/true_values[i])\n",
    "returns_daily"
   ]
  },
  {
   "cell_type": "code",
   "execution_count": 11,
   "metadata": {},
   "outputs": [],
   "source": [
    "from numpy import array\n",
    "returns_daily = array(returns_daily)"
   ]
  },
  {
   "cell_type": "code",
   "execution_count": 12,
   "metadata": {},
   "outputs": [
    {
     "name": "stdout",
     "output_type": "stream",
     "text": [
      "1.8297910429223383\n"
     ]
    }
   ],
   "source": [
    "#Calculating annualized sharpe ratio based on daily returns\n",
    "\n",
    "import math\n",
    "def sharperatio(returns, risk_free, days):\n",
    "    return_mean = returns.mean()\n",
    "    excessreturns = array([x - risk_free for x in returns])\n",
    "    std_deviation = np.std(excessreturns)\n",
    "    sharpe_ratio = math.sqrt(days) * return_mean/std_deviation\n",
    "    return sharpe_ratio\n",
    "\n",
    "#Annual risk free return rate for Apple is 3.22%\n",
    "\n",
    "apple_rf = (1+ 3.22*0.01)**(1/252)-1 \n",
    "print(sharperatio(returns_daily,apple_rf, 252))"
   ]
  },
  {
   "cell_type": "code",
   "execution_count": 13,
   "metadata": {},
   "outputs": [
    {
     "data": {
      "text/plain": [
       "[-0.001438636113176002,\n",
       " 0.018627243565726124,\n",
       " -0.05226173693641869,\n",
       " 0.0036538756044715895,\n",
       " 0.07345125692860714,\n",
       " 0.051397029546363375,\n",
       " 0.019785929657995343,\n",
       " 0.004140462890861304,\n",
       " 0.00021280376322947226,\n",
       " 0.02432000666666666,\n",
       " 0.007679883840467267,\n",
       " -0.008667690609796306,\n",
       " -0.013212930290046651,\n",
       " -0.015198926555472227,\n",
       " 0.011474016247690661,\n",
       " 0.004853862065599418,\n",
       " 0.022685706984699454,\n",
       " 0.0013004269125682052,\n",
       " 0.012196093204106528,\n",
       " 0.07026787474375472,\n",
       " 0.019578781394703874,\n",
       " -0.002437880835228532,\n",
       " 0.009474404644622786,\n",
       " -0.006982772312174518,\n",
       " 0.03511849937599141]"
      ]
     },
     "execution_count": 13,
     "metadata": {},
     "output_type": "execute_result"
    }
   ],
   "source": [
    "returns_3days = []\n",
    "        \n",
    "for i in range (len(three_day_predictions)-1):\n",
    "    if three_day_predictions[i+1] > three_day_predictions[i]:\n",
    "        returns_3days.append((three_day_interval[i+1]-three_day_interval[i])/three_day_interval[i])\n",
    "\n",
    "returns_3days"
   ]
  },
  {
   "cell_type": "code",
   "execution_count": 14,
   "metadata": {},
   "outputs": [
    {
     "name": "stdout",
     "output_type": "stream",
     "text": [
      "7.098709332594572\n"
     ]
    }
   ],
   "source": [
    "from numpy import array\n",
    "returns_3days = array(returns_3days)\n",
    "\n",
    "print(sharperatio(returns_3days,apple_rf, 252))"
   ]
  },
  {
   "cell_type": "code",
   "execution_count": 15,
   "metadata": {},
   "outputs": [
    {
     "name": "stdout",
     "output_type": "stream",
     "text": [
      "0.08259078576548225\n"
     ]
    }
   ],
   "source": [
    "#finding local min and max to find largest peak before drop and then maximum drawdown\n",
    "\n",
    "capital_values = array(capital_values)\n",
    "capital_values_3days = array(capital_values_3days)\n",
    "import numpy as np\n",
    "from scipy.signal import argrelextrema\n",
    "\n",
    "\n",
    "def max_drawdown(returns_array):\n",
    "    \n",
    "    local_max = returns_array[argrelextrema(returns_array, np.greater)[0]]\n",
    "    local_min = returns_array[argrelextrema(returns_array, np.less)[0]]\n",
    "\n",
    "    drop_values = []\n",
    "    for i in range(len(local_max)):\n",
    "        drop = local_max[i] - local_min[i]\n",
    "        drop_values.append(drop)\n",
    "    \n",
    "    peak_before_largest_drop = local_max[drop_values.index(max(drop_values))]\n",
    "\n",
    "    abs_min = min(local_min)\n",
    "\n",
    "    max_drawdown = (peak_before_largest_drop - abs_min)/peak_before_largest_drop\n",
    "\n",
    "    return max_drawdown\n",
    "\n",
    "print(max_drawdown(capital_values))\n"
   ]
  },
  {
   "cell_type": "code",
   "execution_count": 16,
   "metadata": {},
   "outputs": [
    {
     "name": "stdout",
     "output_type": "stream",
     "text": [
      "0.05226173693641874\n"
     ]
    }
   ],
   "source": [
    "print(max_drawdown(capital_values_3days))\n"
   ]
  },
  {
   "cell_type": "code",
   "execution_count": null,
   "metadata": {},
   "outputs": [],
   "source": []
  }
 ],
 "metadata": {
  "kernelspec": {
   "display_name": "Python 3",
   "language": "python",
   "name": "python3"
  },
  "language_info": {
   "codemirror_mode": {
    "name": "ipython",
    "version": 3
   },
   "file_extension": ".py",
   "mimetype": "text/x-python",
   "name": "python",
   "nbconvert_exporter": "python",
   "pygments_lexer": "ipython3",
   "version": "3.6.6"
  }
 },
 "nbformat": 4,
 "nbformat_minor": 2
}
