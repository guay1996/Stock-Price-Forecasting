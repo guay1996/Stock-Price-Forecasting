{
 "cells": [
  {
   "cell_type": "code",
   "execution_count": 1,
   "metadata": {},
   "outputs": [
    {
     "data": {
      "text/html": [
       "<div>\n",
       "<style scoped>\n",
       "    .dataframe tbody tr th:only-of-type {\n",
       "        vertical-align: middle;\n",
       "    }\n",
       "\n",
       "    .dataframe tbody tr th {\n",
       "        vertical-align: top;\n",
       "    }\n",
       "\n",
       "    .dataframe thead th {\n",
       "        text-align: right;\n",
       "    }\n",
       "</style>\n",
       "<table border=\"1\" class=\"dataframe\">\n",
       "  <thead>\n",
       "    <tr style=\"text-align: right;\">\n",
       "      <th></th>\n",
       "      <th>Date</th>\n",
       "      <th>Open</th>\n",
       "      <th>High</th>\n",
       "      <th>Low</th>\n",
       "      <th>Close</th>\n",
       "      <th>Adj Close</th>\n",
       "      <th>Volume</th>\n",
       "    </tr>\n",
       "  </thead>\n",
       "  <tbody>\n",
       "    <tr>\n",
       "      <th>4517</th>\n",
       "      <td>2018-08-31</td>\n",
       "      <td>226.509995</td>\n",
       "      <td>228.869995</td>\n",
       "      <td>226.000000</td>\n",
       "      <td>227.630005</td>\n",
       "      <td>227.630005</td>\n",
       "      <td>43340100</td>\n",
       "    </tr>\n",
       "    <tr>\n",
       "      <th>4518</th>\n",
       "      <td>2018-09-04</td>\n",
       "      <td>228.410004</td>\n",
       "      <td>229.179993</td>\n",
       "      <td>226.630005</td>\n",
       "      <td>228.360001</td>\n",
       "      <td>228.360001</td>\n",
       "      <td>27390100</td>\n",
       "    </tr>\n",
       "    <tr>\n",
       "      <th>4519</th>\n",
       "      <td>2018-09-05</td>\n",
       "      <td>228.990005</td>\n",
       "      <td>229.669998</td>\n",
       "      <td>225.100006</td>\n",
       "      <td>226.869995</td>\n",
       "      <td>226.869995</td>\n",
       "      <td>33333000</td>\n",
       "    </tr>\n",
       "    <tr>\n",
       "      <th>4520</th>\n",
       "      <td>2018-09-06</td>\n",
       "      <td>226.229996</td>\n",
       "      <td>227.350006</td>\n",
       "      <td>221.300003</td>\n",
       "      <td>223.100006</td>\n",
       "      <td>223.100006</td>\n",
       "      <td>34290000</td>\n",
       "    </tr>\n",
       "    <tr>\n",
       "      <th>4521</th>\n",
       "      <td>2018-09-07</td>\n",
       "      <td>221.850006</td>\n",
       "      <td>225.369995</td>\n",
       "      <td>220.710007</td>\n",
       "      <td>221.300003</td>\n",
       "      <td>221.300003</td>\n",
       "      <td>37619800</td>\n",
       "    </tr>\n",
       "    <tr>\n",
       "      <th>4522</th>\n",
       "      <td>2018-09-10</td>\n",
       "      <td>220.949997</td>\n",
       "      <td>221.850006</td>\n",
       "      <td>216.470001</td>\n",
       "      <td>218.330002</td>\n",
       "      <td>218.330002</td>\n",
       "      <td>39516500</td>\n",
       "    </tr>\n",
       "    <tr>\n",
       "      <th>4523</th>\n",
       "      <td>2018-09-11</td>\n",
       "      <td>218.009995</td>\n",
       "      <td>224.300003</td>\n",
       "      <td>216.559998</td>\n",
       "      <td>223.850006</td>\n",
       "      <td>223.850006</td>\n",
       "      <td>35749000</td>\n",
       "    </tr>\n",
       "    <tr>\n",
       "      <th>4524</th>\n",
       "      <td>2018-09-12</td>\n",
       "      <td>224.940002</td>\n",
       "      <td>225.000000</td>\n",
       "      <td>219.839996</td>\n",
       "      <td>221.070007</td>\n",
       "      <td>221.070007</td>\n",
       "      <td>49278700</td>\n",
       "    </tr>\n",
       "    <tr>\n",
       "      <th>4525</th>\n",
       "      <td>2018-09-13</td>\n",
       "      <td>223.520004</td>\n",
       "      <td>228.350006</td>\n",
       "      <td>222.570007</td>\n",
       "      <td>226.410004</td>\n",
       "      <td>226.410004</td>\n",
       "      <td>41706400</td>\n",
       "    </tr>\n",
       "    <tr>\n",
       "      <th>4526</th>\n",
       "      <td>2018-09-14</td>\n",
       "      <td>225.750000</td>\n",
       "      <td>226.839996</td>\n",
       "      <td>222.520004</td>\n",
       "      <td>223.839996</td>\n",
       "      <td>223.839996</td>\n",
       "      <td>31902700</td>\n",
       "    </tr>\n",
       "  </tbody>\n",
       "</table>\n",
       "</div>"
      ],
      "text/plain": [
       "            Date        Open        High         Low       Close   Adj Close  \\\n",
       "4517  2018-08-31  226.509995  228.869995  226.000000  227.630005  227.630005   \n",
       "4518  2018-09-04  228.410004  229.179993  226.630005  228.360001  228.360001   \n",
       "4519  2018-09-05  228.990005  229.669998  225.100006  226.869995  226.869995   \n",
       "4520  2018-09-06  226.229996  227.350006  221.300003  223.100006  223.100006   \n",
       "4521  2018-09-07  221.850006  225.369995  220.710007  221.300003  221.300003   \n",
       "4522  2018-09-10  220.949997  221.850006  216.470001  218.330002  218.330002   \n",
       "4523  2018-09-11  218.009995  224.300003  216.559998  223.850006  223.850006   \n",
       "4524  2018-09-12  224.940002  225.000000  219.839996  221.070007  221.070007   \n",
       "4525  2018-09-13  223.520004  228.350006  222.570007  226.410004  226.410004   \n",
       "4526  2018-09-14  225.750000  226.839996  222.520004  223.839996  223.839996   \n",
       "\n",
       "        Volume  \n",
       "4517  43340100  \n",
       "4518  27390100  \n",
       "4519  33333000  \n",
       "4520  34290000  \n",
       "4521  37619800  \n",
       "4522  39516500  \n",
       "4523  35749000  \n",
       "4524  49278700  \n",
       "4525  41706400  \n",
       "4526  31902700  "
      ]
     },
     "execution_count": 1,
     "metadata": {},
     "output_type": "execute_result"
    }
   ],
   "source": [
    "import pandas as pd\n",
    "import numpy as np\n",
    "from sklearn.preprocessing import MinMaxScaler\n",
    "import matplotlib.pyplot as plt\n",
    "from matplotlib.pyplot import figure\n",
    "\n",
    "#change filename here if necessary\n",
    "filename = 'Desktop\\AAPL (3).csv'\n",
    "\n",
    "df = pd.read_csv(filename)\n",
    "\n",
    "df.sort_values('Date')\n",
    "\n",
    "df.tail(10)"
   ]
  },
  {
   "cell_type": "code",
   "execution_count": 2,
   "metadata": {},
   "outputs": [
    {
     "name": "stdout",
     "output_type": "stream",
     "text": [
      "[  4.13783425   4.263393     4.29380375 ... 222.71250125 225.21250525\n",
      " 224.737499  ]\n"
     ]
    },
    {
     "name": "stderr",
     "output_type": "stream",
     "text": [
      "C:\\Users\\Yi Rong\\Anaconda3\\envs\\tensorflow\\lib\\site-packages\\ipykernel_launcher.py:1: FutureWarning: Method .as_matrix will be removed in a future version. Use .values instead.\n",
      "  \"\"\"Entry point for launching an IPython kernel.\n",
      "C:\\Users\\Yi Rong\\Anaconda3\\envs\\tensorflow\\lib\\site-packages\\ipykernel_launcher.py:2: FutureWarning: Method .as_matrix will be removed in a future version. Use .values instead.\n",
      "  \n",
      "C:\\Users\\Yi Rong\\Anaconda3\\envs\\tensorflow\\lib\\site-packages\\ipykernel_launcher.py:3: FutureWarning: Method .as_matrix will be removed in a future version. Use .values instead.\n",
      "  This is separate from the ipykernel package so we can avoid doing imports until\n",
      "C:\\Users\\Yi Rong\\Anaconda3\\envs\\tensorflow\\lib\\site-packages\\ipykernel_launcher.py:4: FutureWarning: Method .as_matrix will be removed in a future version. Use .values instead.\n",
      "  after removing the cwd from sys.path.\n"
     ]
    }
   ],
   "source": [
    "high_prices = df.loc[:,'High'].as_matrix()\n",
    "low_prices = df.loc[:,'Low'].as_matrix()\n",
    "open_prices = df.loc[:,'Open'].as_matrix()\n",
    "close_prices = df.loc[:,'Close'].as_matrix()\n",
    "OHLC_mean = (high_prices+low_prices+open_prices+close_prices)/4.0\n",
    "\n",
    "print(OHLC_mean)"
   ]
  },
  {
   "cell_type": "code",
   "execution_count": 3,
   "metadata": {},
   "outputs": [
    {
     "data": {
      "text/plain": [
       "[180.95442223378802,\n",
       " 183.52754617276813,\n",
       " 185.04370930556334,\n",
       " 180.27883669824658,\n",
       " 177.90763511541553,\n",
       " 175.7000205787051,\n",
       " 180.5334795625204,\n",
       " 171.85385524335183,\n",
       " 177.9101533356683,\n",
       " 172.33338706479256,\n",
       " 180.46451491259336,\n",
       " 180.25741561437957,\n",
       " 184.6790537204609,\n",
       " 177.38319683410222,\n",
       " 177.235637773539,\n",
       " 175.19181563138184,\n",
       " 172.29485721414378,\n",
       " 174.40480155160787,\n",
       " 175.54768446513017,\n",
       " 176.9431351429755,\n",
       " 166.9889563337196,\n",
       " 162.32094333973092,\n",
       " 158.47177343257385,\n",
       " 165.52375203565344,\n",
       " 162.74909482176508,\n",
       " 165.4642874526886,\n",
       " 161.36587858737963,\n",
       " 156.9396687767192,\n",
       " 175.19173997669614,\n",
       " 167.7301885208293,\n",
       " 170.4982745848735,\n",
       " 184.03043367646748,\n",
       " 180.27816661388746,\n",
       " 184.8468341977321,\n",
       " 180.00156227513446,\n",
       " 183.48159135510792,\n",
       " 180.1102672506816,\n",
       " 188.5841324403546,\n",
       " 189.831505282649,\n",
       " 189.31402723242064,\n",
       " 185.97246784291346,\n",
       " 182.90240069696804,\n",
       " 192.86865183250012,\n",
       " 187.2631583966806,\n",
       " 186.4053639545226,\n",
       " 182.92773420886726,\n",
       " 181.5269120483368,\n",
       " 185.63212983535936,\n",
       " 182.60680703210284,\n",
       " 187.496628756769,\n",
       " 186.8907211867627,\n",
       " 178.5577250218741,\n",
       " 177.21415184279851,\n",
       " 185.2052212517332,\n",
       " 186.17115866320165,\n",
       " 188.0211102693313,\n",
       " 190.49962261993005,\n",
       " 192.16750582100232,\n",
       " 195.4821321423982,\n",
       " 194.1944461604348,\n",
       " 192.67251165590145,\n",
       " 197.79995394055763,\n",
       " 187.8888442630929,\n",
       " 191.34343175304468,\n",
       " 188.85350635271658,\n",
       " 197.16707007119103,\n",
       " 190.19030303351536,\n",
       " 200.52311192910477,\n",
       " 184.90800641503145,\n",
       " 185.6351127915386,\n",
       " 191.90686462093325,\n",
       " 194.50346312810666,\n",
       " 202.40453588448807,\n",
       " 200.08742740193674,\n",
       " 211.45376576676668,\n",
       " 208.2225325246432,\n",
       " 193.1414626291556,\n",
       " 197.1895935519069,\n",
       " 201.50028946530665,\n",
       " 198.3086344316196,\n",
       " 192.07637434816345,\n",
       " 199.95691226128181,\n",
       " 204.13722272777358,\n",
       " 208.08261458733625,\n",
       " 206.10904322476318,\n",
       " 212.83753319957657,\n",
       " 216.39453551834967,\n",
       " 213.15251607960698,\n",
       " 224.2919552341927,\n",
       " 205.18622898414708,\n",
       " 198.73085242473198,\n",
       " 196.52737728011093,\n",
       " 205.10594855480088,\n",
       " 202.6135805889057,\n",
       " 193.90886052970728,\n",
       " 198.75011194615027,\n",
       " 173.23566646214562,\n",
       " 187.35091783209944,\n",
       " 184.4382124324223,\n",
       " 184.63768141519202,\n",
       " 199.07691857277527,\n",
       " 183.98201467761572,\n",
       " 197.173100830423,\n",
       " 189.15858927673173,\n",
       " 184.93493948314276,\n",
       " 183.68676686274233,\n",
       " 188.56180350025912,\n",
       " 183.7796492011647,\n",
       " 188.01801923502958,\n",
       " 188.2418490265966,\n",
       " 170.01078821362142,\n",
       " 187.85456188265587,\n",
       " 184.15245387669887,\n",
       " 187.94366148679293,\n",
       " 190.85896076140858,\n",
       " 182.2036972510373,\n",
       " 180.6351810757336,\n",
       " 188.5898173495948,\n",
       " 194.44051842959936,\n",
       " 185.07235000800915]"
      ]
     },
     "execution_count": 3,
     "metadata": {},
     "output_type": "execute_result"
    }
   ],
   "source": [
    "#data pulled from Stock Price 4-month forecasting (Adagrad optimizer).ipynb\n",
    "\n",
    "four_month_predictions = [180.95442223378802, 183.52754617276813, 185.04370930556334, 180.27883669824658, 177.90763511541553, 175.7000205787051, 180.5334795625204, 171.85385524335183, 177.9101533356683, 172.33338706479256, 180.46451491259336, 180.25741561437957, 184.6790537204609, 177.38319683410222, 177.235637773539, 175.19181563138184, 172.29485721414378, 174.40480155160787, 175.54768446513017, 176.9431351429755, 166.9889563337196, 162.32094333973092, 158.47177343257385, 165.52375203565344, 162.74909482176508, 165.4642874526886, 161.36587858737963, 156.9396687767192, 175.19173997669614, 167.7301885208293, 170.4982745848735, 184.03043367646748, 180.27816661388746, 184.8468341977321, 180.00156227513446, 183.48159135510792, 180.1102672506816, 188.5841324403546, 189.831505282649, 189.31402723242064, 185.97246784291346, 182.90240069696804, 192.86865183250012, 187.2631583966806, 186.4053639545226, 182.92773420886726, 181.5269120483368, 185.63212983535936, 182.60680703210284, 187.496628756769, 186.8907211867627, 178.5577250218741, 177.21415184279851, 185.2052212517332, 186.17115866320165, 188.0211102693313, 190.49962261993005, 192.16750582100232, 195.4821321423982, 194.1944461604348, 192.67251165590145, 197.79995394055763, 187.8888442630929, 191.34343175304468, 188.85350635271658, 197.16707007119103, 190.19030303351536, 200.52311192910477, 184.90800641503145, 185.6351127915386, 191.90686462093325, 194.50346312810666, 202.40453588448807, 200.08742740193674, 211.45376576676668, 208.2225325246432, 193.1414626291556, 197.1895935519069, 201.50028946530665, 198.3086344316196, 192.07637434816345, 199.95691226128181, 204.13722272777358, 208.08261458733625, 206.10904322476318, 212.83753319957657, 216.39453551834967, 213.15251607960698, 224.2919552341927, 205.18622898414708, 198.73085242473198, 196.52737728011093, 205.10594855480088, 202.6135805889057, 193.90886052970728, 198.75011194615027, 173.23566646214562, 187.35091783209944, 184.4382124324223, 184.63768141519202, 199.07691857277527, 183.98201467761572, 197.173100830423, 189.15858927673173, 184.93493948314276, 183.68676686274233, 188.56180350025912, 183.7796492011647, 188.01801923502958, 188.2418490265966, 170.01078821362142, 187.85456188265587, 184.15245387669887, 187.94366148679293, 190.85896076140858, 182.2036972510373, 180.6351810757336, 188.5898173495948, 194.44051842959936, 185.07235000800915]\n",
    "four_month_predictions"
   ]
  },
  {
   "cell_type": "code",
   "execution_count": 4,
   "metadata": {},
   "outputs": [
    {
     "name": "stdout",
     "output_type": "stream",
     "text": [
      "[178.352497   175.93750375 175.55500375 173.164997   170.03250125\n",
      " 167.04750025 170.09500475 171.02249525 167.2350005  168.55999775\n",
      " 166.68249875 167.41500075 168.31750125 172.92250075 170.00749975\n",
      " 170.7175025  172.94499975 172.57249825 173.897499   174.79999925\n",
      " 175.4675025  177.520004   177.8375015  173.65250025 168.24250025\n",
      " 165.77000025 164.04000075 163.52499775 164.35999675 162.8200035\n",
      " 164.12249775 167.49500275 175.8375015  176.1775015  181.125\n",
      " 185.68999875 185.23250175 186.63249975 188.94999675 188.897499\n",
      " 188.63749725 186.3475035  187.17750175 187.5650025  186.86000075\n",
      " 187.95250325 187.80000325 187.2425005  187.99250025 188.5274965\n",
      " 187.77999875 187.5        187.11499775 189.06000125 192.06000125\n",
      " 193.170002   193.40250025 193.53499975 191.15999975 191.1900025\n",
      " 191.85749825 191.6100005  191.0350035  189.3224985  188.260002\n",
      " 185.1525     186.44499975 186.50000375 185.472496   182.8049965\n",
      " 184.1224975  185.1749995  184.902504   185.375      185.43000025\n",
      " 185.79999525 185.337498   186.75499725 190.0149995  190.63000125\n",
      " 188.44250125 190.32       191.2874985  191.375      190.56749725\n",
      " 190.97749725 190.952503   191.454998   190.95249975 192.790001\n",
      " 193.790001   194.597504   192.81500225 190.7700005  190.51749775\n",
      " 199.9249995  204.175003   207.31000125 208.3475035  208.17250075\n",
      " 206.40750125 208.8475     207.665001   209.20749675 209.68249925\n",
      " 209.63250325 212.5875015  215.53250125 216.96250175 215.76499925\n",
      " 214.8375015  215.447502   216.19250125 217.54000075 219.54249575\n",
      " 221.50749975 224.734997   227.25249875 228.14500075 227.657501  ]\n"
     ]
    }
   ],
   "source": [
    "true_values = OHLC_mean[4400:4520]\n",
    "print(true_values)"
   ]
  },
  {
   "cell_type": "code",
   "execution_count": 5,
   "metadata": {},
   "outputs": [
    {
     "name": "stdout",
     "output_type": "stream",
     "text": [
      "29.830009250000074\n"
     ]
    }
   ],
   "source": [
    "#Assuming 1 stock is bought/sold each time. Buying is done when the stock is predicted to go up, else it is sold\n",
    "\n",
    "profit = 0\n",
    "for i in range (len(true_values)-1):\n",
    "    if four_month_predictions[i+1] > four_month_predictions[i]:\n",
    "        profit = profit + true_values[i+1] - true_values[i]\n",
    "print (profit)"
   ]
  },
  {
   "cell_type": "code",
   "execution_count": 6,
   "metadata": {},
   "outputs": [
    {
     "name": "stdout",
     "output_type": "stream",
     "text": [
      "21\n"
     ]
    }
   ],
   "source": [
    "#Number of correct predictions of price changes per 3 day interval\n",
    "three_day_interval = []\n",
    "for i in range (len(true_values)-1):\n",
    "    if i %  3 == 0:\n",
    "        three_day_interval.append(true_values[i])\n",
    "        \n",
    "three_day_predictions = []\n",
    "for i in range (len(four_month_predictions)-1):\n",
    "    if i % 3 == 0:\n",
    "        three_day_predictions.append(four_month_predictions[i])\n",
    "        \n",
    "counter = 0;\n",
    "for i in range(len(three_day_predictions)-1):\n",
    "    if three_day_interval[i+1] > three_day_interval[i] and  three_day_predictions[i+1] >  three_day_predictions[i]:\n",
    "        counter = counter + 1\n",
    "    elif three_day_interval[i+1]< three_day_interval[i] and  three_day_predictions[i+1] < three_day_predictions[i]:\n",
    "        counter = counter + 1\n",
    "print (counter)"
   ]
  },
  {
   "cell_type": "code",
   "execution_count": 7,
   "metadata": {},
   "outputs": [
    {
     "name": "stdout",
     "output_type": "stream",
     "text": [
      "25.569992499999955\n"
     ]
    }
   ],
   "source": [
    "#profit if 1 stock was bought/sold every 3 days instead\n",
    "profit = 0\n",
    "for i in range (len(three_day_predictions)-1):\n",
    "    if three_day_predictions[i+1] > three_day_predictions[i]:\n",
    "        profit = profit + three_day_interval[i+1] - three_day_interval[i]\n",
    "print (profit)"
   ]
  },
  {
   "cell_type": "code",
   "execution_count": 8,
   "metadata": {},
   "outputs": [
    {
     "name": "stdout",
     "output_type": "stream",
     "text": [
      "1161.5708106054508\n",
      "0.16157081060545075\n",
      "[986.4594368420873, 984.3148074904723, 1002.2719981144238, 980.0755032885166, 969.1589702918928, 974.38351081305, 972.2848128461948, 979.7499542754421, 984.8347000811946, 961.6588546261056, 947.526269134747, 952.3645721348229, 959.9831039641095, 979.7095148000335, 981.6038845004128, 1006.343818279513, 1013.949823271041, 1026.5404796504433, 1031.112726585128, 1028.0517672098185, 1030.9774362632738, 1041.69413319332, 1058.223713109315, 1064.339661810628, 1065.6206946118627, 1066.3507483032226, 1053.2648308697267, 1051.906110579031, 1042.476454019273, 1025.2688813463596, 1025.5713506516518, 1010.8213951376138, 1018.106525327779, 1023.9263418557433, 1022.4195762489361, 1022.7229253105603, 1030.5449202939258, 1048.5341511490817, 1058.980953463083, 1064.3643208653746, 1064.851197819449, 1067.1421918105873, 1067.0025291848237, 1064.2020439049309, 1054.4540154532704, 1106.521558397216, 1123.5116066312917, 1122.567906238849, 1113.0501659701329, 1106.7480521875425, 1122.3488703178537, 1129.7953548917385, 1123.5595641396103, 1126.749751565547, 1133.7726349591942, 1144.20921685133, 1157.0267519226002, 1161.5708106054508]\n"
     ]
    }
   ],
   "source": [
    "#Assuming initial capital of $1000 and trading is done daily\n",
    "capital = 1000\n",
    "capital_values=[]\n",
    "for i in range (len(true_values)-1):\n",
    "    if four_month_predictions[i+1] > four_month_predictions[i]:\n",
    "        capital = (capital/true_values[i])*true_values[i+1]\n",
    "        capital_values.append(capital)\n",
    "return_on_capital_daily = capital/1000 -1\n",
    "\n",
    "print(capital)\n",
    "print(return_on_capital_daily)\n",
    "print(capital_values)"
   ]
  },
  {
   "cell_type": "code",
   "execution_count": 9,
   "metadata": {},
   "outputs": [
    {
     "name": "stdout",
     "output_type": "stream",
     "text": [
      "1138.8662625812944\n",
      "0.13886626258129442\n",
      "[982.2712886369294, 980.8581576881604, 999.1288414948473, 946.9126328150547, 950.3725337836636, 1020.1785909404989, 1040.3637727794405, 1030.8907896131561, 1055.9620604891534, 1064.0717264536506, 1054.8486819421184, 1066.9520328575773, 1072.1308708556787, 1073.5250986939345, 1078.524662334028, 1061.7170613086732, 1082.504187555063, 1079.865171342168, 1117.62367712455, 1138.8662625812944]\n"
     ]
    }
   ],
   "source": [
    "#Assuming initial capital of $1000 and is done every 3 days\n",
    "capital = 1000\n",
    "capital_values_3days = []\n",
    "for i in range (len(three_day_predictions)-1):\n",
    "    if three_day_predictions[i+1] > three_day_predictions[i]:\n",
    "        capital = (capital/three_day_interval[i])*three_day_interval[i+1]\n",
    "        capital_values_3days.append(capital)\n",
    "return_on_capital_3days = capital/1000 -1\n",
    "\n",
    "print(capital)\n",
    "print(return_on_capital_3days)\n",
    "print(capital_values_3days)"
   ]
  },
  {
   "cell_type": "code",
   "execution_count": 10,
   "metadata": {},
   "outputs": [
    {
     "data": {
      "text/plain": [
       "[-0.013540563157912798,\n",
       " -0.0021740674492207097,\n",
       " 0.018243340938590324,\n",
       " -0.022146178749546407,\n",
       " -0.01113846123078765,\n",
       " 0.005390798291412977,\n",
       " -0.0021538726215758665,\n",
       " 0.007677936887026309,\n",
       " 0.005189840309319407,\n",
       " -0.023532726307448553,\n",
       " -0.014696048836209544,\n",
       " 0.005106246821519874,\n",
       " 0.007999596007870096,\n",
       " 0.020548706278752805,\n",
       " 0.0019336034526173213,\n",
       " 0.02520358178053815,\n",
       " 0.007558058044746131,\n",
       " 0.012417435350779382,\n",
       " 0.004454034716917946,\n",
       " -0.002968598191438135,\n",
       " 0.0028458382610399165,\n",
       " 0.010394695900318253,\n",
       " 0.015867978314635708,\n",
       " 0.005779447791188701,\n",
       " 0.001203593972111632,\n",
       " 0.0006850971410851471,\n",
       " -0.01227168214053231,\n",
       " -0.0012900082209842928,\n",
       " -0.008964351917841179,\n",
       " -0.016506437729667138,\n",
       " 0.00029501461596583646,\n",
       " -0.014382183652717928,\n",
       " 0.00720713889239889,\n",
       " 0.005716313944742318,\n",
       " -0.001471556639588331,\n",
       " 0.00029669723533381625,\n",
       " 0.007648205383672502,\n",
       " 0.017456037578667864,\n",
       " 0.009963244690268623,\n",
       " 0.005083535624211879,\n",
       " 0.0004574344935563152,\n",
       " 0.002151468670767911,\n",
       " -0.00013087536678366542,\n",
       " -0.002624628530198902,\n",
       " -0.009159941486197039,\n",
       " 0.049378675770478005,\n",
       " 0.015354466530851454,\n",
       " -0.0008399560688760756,\n",
       " -0.008478543004676932,\n",
       " -0.005662021331354252,\n",
       " 0.01409608817424637,\n",
       " 0.006634732542454439,\n",
       " -0.005519398469049102,\n",
       " 0.0028393576342164474,\n",
       " 0.0062328688192646985,\n",
       " 0.009205180624695015,\n",
       " 0.011202090389152783,\n",
       " 0.003927358356494231]"
      ]
     },
     "execution_count": 10,
     "metadata": {},
     "output_type": "execute_result"
    }
   ],
   "source": [
    "#calculate daily returns\n",
    "returns_daily = []\n",
    "for i in range (len(true_values)-1):\n",
    "    if four_month_predictions[i+1] > four_month_predictions[i]:\n",
    "        returns_daily.append((true_values[i+1]-true_values[i])/true_values[i])\n",
    "returns_daily"
   ]
  },
  {
   "cell_type": "code",
   "execution_count": 11,
   "metadata": {},
   "outputs": [],
   "source": [
    "from numpy import array\n",
    "returns_daily = array(returns_daily)"
   ]
  },
  {
   "cell_type": "code",
   "execution_count": 12,
   "metadata": {},
   "outputs": [
    {
     "name": "stdout",
     "output_type": "stream",
     "text": [
      "3.562654394329771\n"
     ]
    }
   ],
   "source": [
    "#Calculating annualized sharpe ratio based on daily returns\n",
    "\n",
    "import math\n",
    "def sharperatio(returns, risk_free, days):\n",
    "    return_mean = returns.mean()\n",
    "    excessreturns = array([x - risk_free for x in returns])\n",
    "    std_deviation = np.std(excessreturns)\n",
    "    sharpe_ratio = math.sqrt(days) * return_mean/std_deviation\n",
    "    return sharpe_ratio\n",
    "\n",
    "#Annual risk free return rate for Apple is 3.22%\n",
    "\n",
    "apple_rf = (1+ 3.22*0.01)**(1/252)-1 \n",
    "print(sharperatio(returns_daily,apple_rf, 252))"
   ]
  },
  {
   "cell_type": "code",
   "execution_count": 13,
   "metadata": {},
   "outputs": [
    {
     "data": {
      "text/plain": [
       "[-0.017728711363070592,\n",
       " -0.001438636113176002,\n",
       " 0.018627243565726124,\n",
       " -0.05226173693641869,\n",
       " 0.0036538756044715895,\n",
       " 0.07345125692860714,\n",
       " 0.019785929657995343,\n",
       " -0.00910545274080086,\n",
       " 0.02432000666666666,\n",
       " 0.007679883840467267,\n",
       " -0.008667690609796306,\n",
       " 0.011474016247690661,\n",
       " 0.004853862065599418,\n",
       " 0.0013004269125682052,\n",
       " 0.004657146485141318,\n",
       " -0.015583881956840679,\n",
       " 0.019578781394703874,\n",
       " -0.002437880835228532,\n",
       " 0.03496594462385697,\n",
       " 0.019006921463401525]"
      ]
     },
     "execution_count": 13,
     "metadata": {},
     "output_type": "execute_result"
    }
   ],
   "source": [
    "returns_3days = []\n",
    "        \n",
    "for i in range (len(three_day_predictions)-1):\n",
    "    if three_day_predictions[i+1] > three_day_predictions[i]:\n",
    "        returns_3days.append((three_day_interval[i+1]-three_day_interval[i])/three_day_interval[i])\n",
    "\n",
    "returns_3days"
   ]
  },
  {
   "cell_type": "code",
   "execution_count": 14,
   "metadata": {},
   "outputs": [
    {
     "name": "stdout",
     "output_type": "stream",
     "text": [
      "4.5117136263768165\n"
     ]
    }
   ],
   "source": [
    "from numpy import array\n",
    "returns_3days = array(returns_3days)\n",
    "\n",
    "print(sharperatio(returns_3days,apple_rf, 252))"
   ]
  },
  {
   "cell_type": "code",
   "execution_count": 15,
   "metadata": {},
   "outputs": [
    {
     "name": "stdout",
     "output_type": "stream",
     "text": [
      "0.08106432526267547\n"
     ]
    }
   ],
   "source": [
    "#finding local min and max to find largest peak before drop and then maximum drawdown\n",
    "\n",
    "capital_values = array(capital_values)\n",
    "capital_values_3days = array(capital_values_3days)\n",
    "import numpy as np\n",
    "from scipy.signal import argrelextrema\n",
    "\n",
    "\n",
    "def max_drawdown(returns_array):\n",
    "    \n",
    "    local_max = returns_array[argrelextrema(returns_array, np.greater)[0]]\n",
    "    local_min = returns_array[argrelextrema(returns_array, np.less)[0]]\n",
    "\n",
    "    drop_values = []\n",
    "    for i in range(len(local_max)):\n",
    "        drop = local_max[i] - local_min[i]\n",
    "        drop_values.append(drop)\n",
    "    \n",
    "    peak_before_largest_drop = local_max[drop_values.index(max(drop_values))]\n",
    "\n",
    "    abs_min = min(local_min)\n",
    "\n",
    "    max_drawdown = (peak_before_largest_drop - abs_min)/peak_before_largest_drop\n",
    "\n",
    "    return max_drawdown\n",
    "\n",
    "print(max_drawdown(capital_values))\n"
   ]
  },
  {
   "cell_type": "code",
   "execution_count": 16,
   "metadata": {},
   "outputs": [
    {
     "name": "stdout",
     "output_type": "stream",
     "text": [
      "0.08982544606942752\n"
     ]
    }
   ],
   "source": [
    "print(max_drawdown(capital_values_3days))\n"
   ]
  },
  {
   "cell_type": "code",
   "execution_count": null,
   "metadata": {},
   "outputs": [],
   "source": []
  },
  {
   "cell_type": "code",
   "execution_count": null,
   "metadata": {},
   "outputs": [],
   "source": []
  }
 ],
 "metadata": {
  "kernelspec": {
   "display_name": "Python 3",
   "language": "python",
   "name": "python3"
  },
  "language_info": {
   "codemirror_mode": {
    "name": "ipython",
    "version": 3
   },
   "file_extension": ".py",
   "mimetype": "text/x-python",
   "name": "python",
   "nbconvert_exporter": "python",
   "pygments_lexer": "ipython3",
   "version": "3.6.6"
  }
 },
 "nbformat": 4,
 "nbformat_minor": 2
}
